{
 "cells": [
  {
   "cell_type": "markdown",
   "id": "4d047ced",
   "metadata": {},
   "source": [
    "# 1.1 - Intro Machine Learning - Aprendizaje Supervisado - Regresion"
   ]
  },
  {
   "cell_type": "code",
   "execution_count": 2,
   "id": "1d798793",
   "metadata": {},
   "outputs": [],
   "source": [
    "import warnings\n",
    "warnings.filterwarnings('ignore')\n",
    "\n",
    "import pandas as pd\n",
    "import numpy as np\n",
    "\n",
    "import pylab as plt\n",
    "import seaborn as sns\n",
    "\n",
    "%matplotlib inline"
   ]
  },
  {
   "cell_type": "markdown",
   "id": "fbfe0578",
   "metadata": {},
   "source": [
    "### 1. Obtener Datos\n",
    "### 2. Definir Objetivo\n",
    "### 3. Limpieza de Datos\n",
    "    * Valores nulos\n",
    "    * Datos inconsistentes\n",
    "    * Datos duplicados...\n"
   ]
  },
  {
   "cell_type": "markdown",
   "id": "4e7d3439",
   "metadata": {},
   "source": [
    "### 4. Buscar colinealidad\n",
    "\n"
   ]
  },
  {
   "cell_type": "code",
   "execution_count": null,
   "id": "76765eb3",
   "metadata": {},
   "outputs": [],
   "source": [
    "#MAPA DE CALOR\n",
    "\n",
    "plt.figure(figsize=(15, 10))\n",
    "\n",
    "sns.set(style='white')\n",
    "\n",
    "mask=np.triu(np.ones_like(df.corr(), dtype=bool))    # mask for superior triangular matrix\n",
    "\n",
    "cmap=sns.diverging_palette(0, 10, as_cmap=True)      # color palette\n",
    "\n",
    "\n",
    "sns.heatmap(df.corr(),                               # data\n",
    "           mask=mask,                                # white mask\n",
    "          cmap=cmap,                                 # color\n",
    "          center=0,                                  # plot center\n",
    "          square=True,                               # data square representation\n",
    "          linewidths=0.5,                            # linewidth\n",
    "          cbar_kws={'shrink': 0.5});                 # lateral bar legend\n",
    "\n",
    "#MATRIZ SCATTER\n",
    "\n",
    "pd.plotting.scatter_matrix(df, figsize=(15, 10), alpha=0.2);\n",
    "\n",
    "#COMPARACIÓN DE 2 VARIABLES\n",
    "\n",
    "plt.figure(figsize=(15,10))\n",
    "\n",
    "plt.scatter(df.price, df.carat)\n",
    "plt.xlabel('price')\n",
    "plt.ylabel('carat');\n",
    "\n",
    "#TRANSFORMAR VARIABLE CON BOXCOX\n",
    "\n",
    "from scipy.stats import boxcox\n",
    "\n",
    "plt.figure(figsize=(15,10))\n",
    "\n",
    "\n",
    "carat_boxcox=boxcox(df.carat, lmbda=2.618033)\n",
    "\n",
    "plt.scatter(df.price, carat_boxcox)\n",
    "plt.xlabel('price')\n",
    "plt.ylabel('carat_boxcox');\n"
   ]
  },
  {
   "cell_type": "markdown",
   "id": "200e2de3",
   "metadata": {},
   "source": [
    "###  5. Separación de datos\n",
    "\n",
    "Antes de transformar definitivamente nada, vamos a separar los datos en X e y.\n",
    "\n",
    "y será la columna objetivo, que nunca se toca, nunca se transforma en ningún sentido. \n",
    "X serán el resto de columnas, la características con las que realizaremos nuestras predicciones.\n"
   ]
  },
  {
   "cell_type": "code",
   "execution_count": null,
   "id": "518ee34e",
   "metadata": {},
   "outputs": [],
   "source": [
    "X=df.drop('price', axis=1)\n",
    "\n",
    "y=df.price\n",
    "\n",
    "X.head()"
   ]
  },
  {
   "cell_type": "code",
   "execution_count": null,
   "id": "822d95e0",
   "metadata": {},
   "outputs": [],
   "source": [
    "#TRANSFORMAR VARIABLE CON BOXCOX\n",
    "\n",
    "X.carat=boxcox(X.carat, lmbda=2.618033)\n",
    "\n",
    "#BORRAR COLUMNA POR POCA CORRELACIÓN CON y\n",
    "\n",
    "X=X.drop('table', axis=1)\n",
    "\n",
    "#NORMALIZACIÓN COLUMNAS?\n",
    "\n",
    "from sklearn.preprocessing import StandardScaler\n",
    "\n",
    "scaler=StandardScaler()\n",
    "\n",
    "X[['depth', 'x', 'y', 'z']]=scaler.fit_transform(X[['depth', 'x', 'y', 'z']])\n",
    "\n",
    "############################\n",
    "\n",
    "data_num=pd.DataFrame(StandardScaler().fit_transform(df._get_numeric_data()),  # standardize numeric columns\n",
    "                      columns=df._get_numeric_data().columns)\n",
    "\n",
    "data_obj=df.select_dtypes(include='object')  # get categoric columns\n",
    "\n",
    "\n",
    "data=pd.concat([data_num, data_obj], axis=1)   # concatenate both dataframes\n",
    "\n"
   ]
  },
  {
   "cell_type": "markdown",
   "id": "fb519001",
   "metadata": {},
   "source": [
    "### 6. Transformar variables categóricas "
   ]
  },
  {
   "cell_type": "code",
   "execution_count": null,
   "id": "ebecf78a",
   "metadata": {},
   "outputs": [],
   "source": [
    "# one-hot encoding, variables dummies\n",
    "\n",
    "X=pd.get_dummies(X, columns=['cut'], drop_first=True)\n",
    "\n",
    "\n",
    "# label encoder\n",
    "\n",
    "from sklearn.preprocessing import LabelEncoder\n",
    "\n",
    "X.clarity=LabelEncoder().fit_transform(X.clarity)\n",
    "\n",
    "######################################\n",
    "\n",
    "le=LabelEncoder()\n",
    "\n",
    "for c in data.columns:\n",
    "    \n",
    "    if data.dtypes[c]==object:\n",
    "        \n",
    "        le.fit(data[c].astype(str))\n",
    "        \n",
    "        data[c]=le.transform(data[c].astype(str))\n",
    "        \n",
    "\n",
    "# label encoder custom, aqui entra mi conocimiento experto\n",
    "\n",
    "color={'J':1, 'I':4, 'H':10, 'G':15, 'F':25, 'E':45, 'D':67}\n",
    "\n",
    "\n",
    "X.color=X.color.apply(lambda x: color[x])\n"
   ]
  },
  {
   "cell_type": "markdown",
   "id": "88459435",
   "metadata": {},
   "source": [
    "### 7. Dividir muestra entre train y test"
   ]
  },
  {
   "cell_type": "code",
   "execution_count": null,
   "id": "ea68f588",
   "metadata": {},
   "outputs": [],
   "source": [
    "from sklearn.model_selection import train_test_split\n",
    "\n",
    "\n",
    "X_train, X_test, y_train, y_test = train_test_split(X, y, \n",
    "                                                    test_size=0.2, train_size=0.8,\n",
    "                                                    random_state=42)\n",
    "\n",
    "X_train.shape, X_test.shape, y_train.shape, y_test.shape"
   ]
  },
  {
   "cell_type": "markdown",
   "id": "883feb9e",
   "metadata": {},
   "source": [
    "### 8. Crear modelos predictivos"
   ]
  },
  {
   "cell_type": "markdown",
   "id": "a4f3488c",
   "metadata": {},
   "source": [
    "##### Regresión Lineal"
   ]
  },
  {
   "cell_type": "code",
   "execution_count": null,
   "id": "e8c31a06",
   "metadata": {},
   "outputs": [],
   "source": [
    "from sklearn.linear_model import LinearRegression as LinReg\n",
    "from sklearn.linear_model import Lasso\n",
    "from sklearn.linear_model import Ridge\n",
    "from sklearn.linear_model import ElasticNet\n",
    "\n",
    "# se inician los modelos\n",
    "linreg=LinReg()\n",
    "lasso=Lasso()\n",
    "ridge=Ridge()\n",
    "elastic=ElasticNet()"
   ]
  },
  {
   "cell_type": "markdown",
   "id": "ab59aee3",
   "metadata": {},
   "source": [
    "##### SVR"
   ]
  },
  {
   "cell_type": "code",
   "execution_count": null,
   "id": "f2cfd2f3",
   "metadata": {},
   "outputs": [],
   "source": [
    "from sklearn.svm import SVR  # support vector regressor\n",
    "\n",
    "svr=SVR()"
   ]
  },
  {
   "cell_type": "markdown",
   "id": "d9a6d333",
   "metadata": {},
   "source": [
    "##### Random Forest"
   ]
  },
  {
   "cell_type": "code",
   "execution_count": null,
   "id": "a9b82e4d",
   "metadata": {},
   "outputs": [],
   "source": [
    "from sklearn.ensemble import RandomForestRegressor as RFR  \n",
    "from sklearn.tree import ExtraTreeRegressor as ETR\n",
    "\n",
    "rfr=RFR()\n",
    "etr=ETR()"
   ]
  },
  {
   "cell_type": "markdown",
   "id": "98ecd34e",
   "metadata": {},
   "source": [
    "##### Boosting"
   ]
  },
  {
   "cell_type": "code",
   "execution_count": null,
   "id": "1d3f8f58",
   "metadata": {},
   "outputs": [],
   "source": [
    "#!pip install xgboost\n",
    "#!pip install catboost\n",
    "#!pip install lightgbm\n",
    "\n",
    "from sklearn.ensemble import GradientBoostingRegressor as GBR\n",
    "\n",
    "from xgboost import XGBRegressor as XGBR\n",
    "\n",
    "from catboost import CatBoostRegressor as CTR\n",
    "\n",
    "from lightgbm import LGBMRegressor as LGBMR\n",
    "\n",
    "\n",
    "gbr=GBR()\n",
    "xgbr=XGBR()\n",
    "ctr=CTR()\n",
    "lgbmr=LGBMR()"
   ]
  },
  {
   "cell_type": "markdown",
   "id": "aa38423e",
   "metadata": {},
   "source": [
    "### 9. Entrenamiento"
   ]
  },
  {
   "cell_type": "markdown",
   "id": "f7281e8b",
   "metadata": {},
   "source": [
    "##### Regresión Lineal"
   ]
  },
  {
   "cell_type": "code",
   "execution_count": null,
   "id": "94fe01d3",
   "metadata": {},
   "outputs": [],
   "source": [
    "linreg.fit(X_train, y_train)\n",
    "lasso.fit(X_train, y_train)\n",
    "ridge.fit(X_train, y_train)\n",
    "elastic.fit(X_train, y_train)"
   ]
  },
  {
   "cell_type": "markdown",
   "id": "625bc3fa",
   "metadata": {},
   "source": [
    "##### SVR"
   ]
  },
  {
   "cell_type": "code",
   "execution_count": null,
   "id": "91be0002",
   "metadata": {},
   "outputs": [],
   "source": [
    "svr.fit(X_train, y_train)"
   ]
  },
  {
   "cell_type": "markdown",
   "id": "6cd0f3b3",
   "metadata": {},
   "source": [
    "##### Random Forest"
   ]
  },
  {
   "cell_type": "code",
   "execution_count": null,
   "id": "1c4c878c",
   "metadata": {},
   "outputs": [],
   "source": [
    "rfr.fit(X_train, y_train)\n",
    "etr.fit(X_train, y_train)"
   ]
  },
  {
   "cell_type": "markdown",
   "id": "f3c97021",
   "metadata": {},
   "source": [
    "##### Boosting"
   ]
  },
  {
   "cell_type": "code",
   "execution_count": null,
   "id": "c17736bc",
   "metadata": {},
   "outputs": [],
   "source": [
    "gbr.fit(X_train, y_train)\n",
    "xgbr.fit(X_train, y_train)\n",
    "ctr.fit(X_train, y_train, verbose=0)\n",
    "lgbmr.fit(X_train, y_train)"
   ]
  },
  {
   "cell_type": "markdown",
   "id": "13891936",
   "metadata": {},
   "source": [
    "##### A cuchillo"
   ]
  },
  {
   "cell_type": "code",
   "execution_count": null,
   "id": "a86460e2",
   "metadata": {},
   "outputs": [],
   "source": [
    "modelos=[linreg, lasso, xgbr, lgbmr]\n",
    "\n",
    "for m in modelos:\n",
    "    m.fit(X_train, y_train)"
   ]
  },
  {
   "cell_type": "markdown",
   "id": "0111fea5",
   "metadata": {},
   "source": [
    "### 10. Predicción"
   ]
  },
  {
   "cell_type": "markdown",
   "id": "193dd797",
   "metadata": {},
   "source": [
    "##### Regresión Lineal"
   ]
  },
  {
   "cell_type": "code",
   "execution_count": null,
   "id": "d272fdfa",
   "metadata": {},
   "outputs": [],
   "source": [
    "linreg.predict(X_test)[:10]\n",
    "lasso.predict(X_test)[:10]\n",
    "ridge.predict(X_test)[:10]\n",
    "elastic.predict(X_test)[:10]"
   ]
  },
  {
   "cell_type": "markdown",
   "id": "a94e61fa",
   "metadata": {},
   "source": [
    "##### SVR"
   ]
  },
  {
   "cell_type": "code",
   "execution_count": null,
   "id": "910cb54d",
   "metadata": {},
   "outputs": [],
   "source": [
    "svr.predict(X_test)[:10]"
   ]
  },
  {
   "cell_type": "markdown",
   "id": "86c14701",
   "metadata": {},
   "source": [
    "##### Random Forest"
   ]
  },
  {
   "cell_type": "code",
   "execution_count": null,
   "id": "e201fc3b",
   "metadata": {},
   "outputs": [],
   "source": [
    "rfr.predict(X_test)[:10]\n",
    "etr.predict(X_test)[:10]"
   ]
  },
  {
   "cell_type": "markdown",
   "id": "bdb80de5",
   "metadata": {},
   "source": [
    "##### Boosting"
   ]
  },
  {
   "cell_type": "code",
   "execution_count": null,
   "id": "565a85aa",
   "metadata": {},
   "outputs": [],
   "source": [
    "gbr.predict(X_test)[:10]\n",
    "xgbr.predict(X_test)[:10]\n",
    "ctr.predict(X_test)[:10]\n",
    "lgbmr.predict(X_test)[:10]"
   ]
  },
  {
   "cell_type": "markdown",
   "id": "eaa1e961",
   "metadata": {},
   "source": [
    "### 11. Evaluación"
   ]
  },
  {
   "cell_type": "code",
   "execution_count": null,
   "id": "693634a0",
   "metadata": {},
   "outputs": [],
   "source": [
    "from sklearn.metrics import mean_squared_error as mse  # error cuadratico medio"
   ]
  },
  {
   "cell_type": "markdown",
   "id": "89949dca",
   "metadata": {},
   "source": [
    "##### Regresión Lineal"
   ]
  },
  {
   "cell_type": "code",
   "execution_count": null,
   "id": "ada40ed2",
   "metadata": {},
   "outputs": [],
   "source": [
    "y_pred=linreg.predict(X_test)\n",
    "\n",
    "mse(y_test, y_pred, squared=False)  # RMSE"
   ]
  },
  {
   "cell_type": "markdown",
   "id": "c896145d",
   "metadata": {},
   "source": [
    "##### SVR"
   ]
  },
  {
   "cell_type": "code",
   "execution_count": null,
   "id": "55c3adeb",
   "metadata": {},
   "outputs": [],
   "source": [
    "y_pred=svr.predict(X_test)\n",
    "\n",
    "mse(y_test, y_pred, squared=False)  # RMSE"
   ]
  },
  {
   "cell_type": "markdown",
   "id": "e8579963",
   "metadata": {},
   "source": [
    "##### Random Forest"
   ]
  },
  {
   "cell_type": "code",
   "execution_count": null,
   "id": "832cae78",
   "metadata": {},
   "outputs": [],
   "source": [
    "y_pred=rfr.predict(X_test)\n",
    "\n",
    "mse(y_test, y_pred, squared=False)  # RMSE"
   ]
  },
  {
   "cell_type": "markdown",
   "id": "58a50478",
   "metadata": {},
   "source": [
    "##### Boosting"
   ]
  },
  {
   "cell_type": "code",
   "execution_count": null,
   "id": "d11c7de9",
   "metadata": {},
   "outputs": [],
   "source": [
    "y_pred=xgbr.predict(X_test)\n",
    "\n",
    "mse(y_test, y_pred, squared=False)  # RMSE\n",
    "\n",
    "\n",
    "y_pred=ctr.predict(X_test)\n",
    "\n",
    "mse(y_test, y_pred, squared=False)  # RMSE"
   ]
  },
  {
   "cell_type": "markdown",
   "id": "7d1932ea",
   "metadata": {},
   "source": [
    "### 12. H2O"
   ]
  },
  {
   "cell_type": "code",
   "execution_count": null,
   "id": "27758023",
   "metadata": {},
   "outputs": [],
   "source": [
    "#!pip install h2o\n",
    "\n",
    "import h2o\n",
    "from h2o.automl import H2OAutoML"
   ]
  },
  {
   "cell_type": "markdown",
   "id": "f71e9104",
   "metadata": {},
   "source": [
    "##### Inicializamos modelo H2O"
   ]
  },
  {
   "cell_type": "code",
   "execution_count": null,
   "id": "732669f8",
   "metadata": {},
   "outputs": [],
   "source": [
    "h2o.init()"
   ]
  },
  {
   "cell_type": "markdown",
   "id": "3057550a",
   "metadata": {},
   "source": [
    "##### Parsear datos para H2O"
   ]
  },
  {
   "cell_type": "code",
   "execution_count": null,
   "id": "49c49ae8",
   "metadata": {},
   "outputs": [],
   "source": [
    "h2train=h2o.H2OFrame(train)\n",
    "h2test=h2o.H2OFrame(test)\n",
    "\n",
    "h2train.columns\n",
    "\n",
    "\n",
    "X=[c for c in h2train.columns if c!='price']\n",
    "\n",
    "y='price'"
   ]
  },
  {
   "cell_type": "markdown",
   "id": "f5c75c85",
   "metadata": {},
   "source": [
    "##### Iniciar auto-machine-learning"
   ]
  },
  {
   "cell_type": "code",
   "execution_count": null,
   "id": "98d434e9",
   "metadata": {},
   "outputs": [],
   "source": [
    "automl=H2OAutoML(max_models=50,\n",
    "                 seed=42,   # random_state\n",
    "                 max_runtime_secs=300,\n",
    "                 sort_metric='RMSE')"
   ]
  },
  {
   "cell_type": "markdown",
   "id": "17496ace",
   "metadata": {},
   "source": [
    "##### Entrenamiento"
   ]
  },
  {
   "cell_type": "code",
   "execution_count": null,
   "id": "3dff774e",
   "metadata": {},
   "outputs": [],
   "source": [
    "automl.train(x=X,\n",
    "             y=y,\n",
    "             training_frame=h2train)"
   ]
  },
  {
   "cell_type": "code",
   "execution_count": null,
   "id": "9cc48247",
   "metadata": {},
   "outputs": [],
   "source": [
    "print('[INFO] Leader board:')\n",
    "\n",
    "leader_board=automl.leaderboard"
   ]
  },
  {
   "cell_type": "markdown",
   "id": "72628d3c",
   "metadata": {},
   "source": [
    "##### Predicción del líder"
   ]
  },
  {
   "cell_type": "code",
   "execution_count": null,
   "id": "7c796782",
   "metadata": {},
   "outputs": [],
   "source": [
    "y_pred=automl.leader.predict(h2test)"
   ]
  },
  {
   "cell_type": "markdown",
   "id": "1180318d",
   "metadata": {},
   "source": [
    "### 13. Regresión logística"
   ]
  },
  {
   "cell_type": "code",
   "execution_count": null,
   "id": "fe7354e6",
   "metadata": {},
   "outputs": [],
   "source": [
    "from sklearn.linear_model import LogisticRegression\n",
    "\n",
    "logreg=LogisticRegression(max_iter=2000)\n",
    "\n",
    "\n",
    "logreg.fit(X_train, y_train)\n",
    "\n",
    "\n",
    "y_pred=logreg.predict(X_test)\n",
    "\n",
    "y_pred[:10]\n",
    "\n",
    "\n",
    "y_prob=logreg.predict_proba(X_test)\n",
    "\n",
    "y_prob[:10]\n",
    "\n",
    "\n",
    "y_prob=[e[1] for e in logreg.predict_proba(X_test)]\n",
    "\n",
    "[0 if e<0.3 else 1 for e in  y_prob][:10]  # 1 si prob>0.3"
   ]
  },
  {
   "cell_type": "markdown",
   "id": "56232146",
   "metadata": {},
   "source": [
    "### 14. Más modelos"
   ]
  },
  {
   "cell_type": "code",
   "execution_count": null,
   "id": "372cd902",
   "metadata": {},
   "outputs": [],
   "source": [
    "# Bayes\n",
    "from sklearn.naive_bayes import GaussianNB as GNB\n",
    "from sklearn.naive_bayes import MultinomialNB as MNB\n",
    "from sklearn.naive_bayes import ComplementNB as CNB\n",
    "from sklearn.naive_bayes import BernoulliNB as BNB\n",
    "\n",
    "# knn\n",
    "from sklearn.neighbors import KNeighborsClassifier as KNNC\n",
    "\n",
    "# boosting\n",
    "from sklearn.ensemble import GradientBoostingClassifier as GBC"
   ]
  }
 ],
 "metadata": {
  "kernelspec": {
   "display_name": "Python 3 (ipykernel)",
   "language": "python",
   "name": "python3"
  },
  "language_info": {
   "codemirror_mode": {
    "name": "ipython",
    "version": 3
   },
   "file_extension": ".py",
   "mimetype": "text/x-python",
   "name": "python",
   "nbconvert_exporter": "python",
   "pygments_lexer": "ipython3",
   "version": "3.9.7"
  }
 },
 "nbformat": 4,
 "nbformat_minor": 5
}
