{
 "cells": [
  {
   "cell_type": "markdown",
   "id": "22b01841",
   "metadata": {},
   "source": [
    "# 1.1 - Intro Machine Learning - Aprendizaje Supervisado - Regresion"
   ]
  },
  {
   "cell_type": "code",
   "execution_count": 2,
   "id": "b6ab067b",
   "metadata": {},
   "outputs": [],
   "source": [
    "import warnings\n",
    "warnings.filterwarnings('ignore')\n",
    "\n",
    "import pandas as pd\n",
    "import numpy as np\n",
    "\n",
    "import pylab as plt\n",
    "import seaborn as sns\n",
    "\n",
    "%matplotlib inline"
   ]
  },
  {
   "cell_type": "markdown",
   "id": "dfe2541e",
   "metadata": {},
   "source": [
    "### 1. Obtener Datos\n",
    "### 2. Definir Objetivo\n",
    "### 3. Limpieza de Datos\n",
    "    * Valores nulos\n",
    "    * Datos inconsistentes\n",
    "    * Datos duplicados...\n"
   ]
  },
  {
   "cell_type": "markdown",
   "id": "d96f853b",
   "metadata": {},
   "source": [
    "### 4. Buscar colinealidad\n",
    "\n"
   ]
  },
  {
   "cell_type": "code",
   "execution_count": null,
   "id": "424e0d36",
   "metadata": {},
   "outputs": [],
   "source": [
    "#MAPA DE CALOR\n",
    "\n",
    "plt.figure(figsize=(15, 10))\n",
    "\n",
    "sns.set(style='white')\n",
    "\n",
    "mask=np.triu(np.ones_like(df.corr(), dtype=bool))\n",
    "\n",
    "cmap=sns.diverging_palette(0, 10, as_cmap=True)\n",
    "\n",
    "\n",
    "sns.heatmap(df.corr(),\n",
    "           mask=mask,\n",
    "          cmap=cmap,\n",
    "          center=0,\n",
    "          square=True,\n",
    "          linewidths=0.5,\n",
    "          cbar_kws={'shrink': 0.5});\n",
    "\n",
    "#MATRIZ SCATTER\n",
    "\n",
    "pd.plotting.scatter_matrix(df, figsize=(15, 10), alpha=0.2);\n",
    "\n",
    "#COMPARACIÓN DE 2 VARIABLES\n",
    "\n",
    "plt.figure(figsize=(15,10))\n",
    "\n",
    "plt.scatter(df.price, df.carat)\n",
    "plt.xlabel('price')\n",
    "plt.ylabel('carat');\n",
    "\n",
    "#TRANSFORMAR VARIABLE CON BOXCOX\n",
    "\n",
    "from scipy.stats import boxcox\n",
    "\n",
    "plt.figure(figsize=(15,10))\n",
    "\n",
    "\n",
    "carat_boxcox=boxcox(df.carat, lmbda=2.618033)\n",
    "\n",
    "plt.scatter(df.price, carat_boxcox)\n",
    "plt.xlabel('price')\n",
    "plt.ylabel('carat_boxcox');\n"
   ]
  },
  {
   "cell_type": "markdown",
   "id": "6f6714a7",
   "metadata": {},
   "source": [
    "###  5. Separación de datos\n",
    "\n",
    "Antes de transformar definitivamente nada, vamos a separar los datos en X e y.\n",
    "\n",
    "y será la columna objetivo, que nunca se toca, nunca se transforma en ningún sentido. \n",
    "X serán el resto de columnas, la características con las que realizaremos nuestras predicciones.\n"
   ]
  },
  {
   "cell_type": "code",
   "execution_count": null,
   "id": "d0ce43a1",
   "metadata": {},
   "outputs": [],
   "source": [
    "X=df.drop('price', axis=1)\n",
    "\n",
    "y=df.price\n",
    "\n",
    "X.head()"
   ]
  },
  {
   "cell_type": "code",
   "execution_count": null,
   "id": "f6e988fd",
   "metadata": {},
   "outputs": [],
   "source": [
    "#TRANSFORMAR VARIABLE CON BOXCOX\n",
    "\n",
    "X.carat=boxcox(X.carat, lmbda=2.618033)\n",
    "\n",
    "#BORRAR COLUMNA POR POCA CORRELACIÓN CON y\n",
    "\n",
    "X=X.drop('table', axis=1)\n",
    "\n",
    "#NORMALIZACIÓN COLUMNAS?\n",
    "\n",
    "from sklearn.preprocessing import StandardScaler\n",
    "\n",
    "scaler=StandardScaler()\n",
    "\n",
    "X[['depth', 'x', 'y', 'z']]=scaler.fit_transform(X[['depth', 'x', 'y', 'z']])"
   ]
  },
  {
   "cell_type": "markdown",
   "id": "f2610fa9",
   "metadata": {},
   "source": [
    "### 6. Transformar variables categóricas "
   ]
  },
  {
   "cell_type": "code",
   "execution_count": null,
   "id": "94562fe9",
   "metadata": {},
   "outputs": [],
   "source": [
    "# one-hot encoding, variables dummies\n",
    "\n",
    "X=pd.get_dummies(X, columns=['cut'], drop_first=True)\n",
    "\n",
    "\n",
    "# label encoder\n",
    "\n",
    "from sklearn.preprocessing import LabelEncoder\n",
    "\n",
    "X.clarity=LabelEncoder().fit_transform(X.clarity)\n",
    "\n",
    "\n",
    "# label encoder custom, aqui entra mi conocimiento experto\n",
    "\n",
    "color={'J':1, 'I':4, 'H':10, 'G':15, 'F':25, 'E':45, 'D':67}\n",
    "\n",
    "\n",
    "X.color=X.color.apply(lambda x: color[x])\n"
   ]
  },
  {
   "cell_type": "markdown",
   "id": "3f58b10f",
   "metadata": {},
   "source": [
    "### 7. Dividir muestra entre train y test"
   ]
  },
  {
   "cell_type": "code",
   "execution_count": null,
   "id": "b2c40521",
   "metadata": {},
   "outputs": [],
   "source": [
    "from sklearn.model_selection import train_test_split\n",
    "\n",
    "\n",
    "X_train, X_test, y_train, y_test = train_test_split(X, y, \n",
    "                                                    test_size=0.2, train_size=0.8,\n",
    "                                                    random_state=42)\n",
    "\n",
    "X_train.shape, X_test.shape, y_train.shape, y_test.shape"
   ]
  },
  {
   "cell_type": "markdown",
   "id": "6a5a9c2e",
   "metadata": {},
   "source": [
    "### 8. Crear modelos predictivos"
   ]
  },
  {
   "cell_type": "markdown",
   "id": "840c40fb",
   "metadata": {},
   "source": [
    "##### Regresión Lineal"
   ]
  },
  {
   "cell_type": "code",
   "execution_count": null,
   "id": "7e0f99c4",
   "metadata": {},
   "outputs": [],
   "source": [
    "from sklearn.linear_model import LinearRegression as LinReg\n",
    "from sklearn.linear_model import Lasso\n",
    "from sklearn.linear_model import Ridge\n",
    "from sklearn.linear_model import ElasticNet\n",
    "\n",
    "# se inician los modelos\n",
    "linreg=LinReg()\n",
    "lasso=Lasso()\n",
    "ridge=Ridge()\n",
    "elastic=ElasticNet()"
   ]
  },
  {
   "cell_type": "markdown",
   "id": "2e3b5990",
   "metadata": {},
   "source": [
    "##### SVR"
   ]
  },
  {
   "cell_type": "code",
   "execution_count": null,
   "id": "33f686d0",
   "metadata": {},
   "outputs": [],
   "source": [
    "from sklearn.svm import SVR  # support vector regressor\n",
    "\n",
    "svr=SVR()"
   ]
  },
  {
   "cell_type": "markdown",
   "id": "d38c91e4",
   "metadata": {},
   "source": [
    "##### Random Forest"
   ]
  },
  {
   "cell_type": "code",
   "execution_count": null,
   "id": "757f3f39",
   "metadata": {},
   "outputs": [],
   "source": [
    "from sklearn.ensemble import RandomForestRegressor as RFR  \n",
    "from sklearn.tree import ExtraTreeRegressor as ETR\n",
    "\n",
    "rfr=RFR()\n",
    "etr=ETR()"
   ]
  },
  {
   "cell_type": "markdown",
   "id": "eb56b46c",
   "metadata": {},
   "source": [
    "##### Boosting"
   ]
  },
  {
   "cell_type": "code",
   "execution_count": null,
   "id": "9684ee87",
   "metadata": {},
   "outputs": [],
   "source": [
    "#!pip install xgboost\n",
    "#!pip install catboost\n",
    "#!pip install lightgbm\n",
    "\n",
    "from sklearn.ensemble import GradientBoostingRegressor as GBR\n",
    "\n",
    "from xgboost import XGBRegressor as XGBR\n",
    "\n",
    "from catboost import CatBoostRegressor as CTR\n",
    "\n",
    "from lightgbm import LGBMRegressor as LGBMR\n",
    "\n",
    "\n",
    "gbr=GBR()\n",
    "xgbr=XGBR()\n",
    "ctr=CTR()\n",
    "lgbmr=LGBMR()"
   ]
  },
  {
   "cell_type": "markdown",
   "id": "9fd28134",
   "metadata": {},
   "source": [
    "### 9. Entrenamiento"
   ]
  },
  {
   "cell_type": "markdown",
   "id": "b160e6fe",
   "metadata": {},
   "source": [
    "##### Regresión Lineal"
   ]
  },
  {
   "cell_type": "code",
   "execution_count": null,
   "id": "9a01801b",
   "metadata": {},
   "outputs": [],
   "source": [
    "linreg.fit(X_train, y_train)\n",
    "lasso.fit(X_train, y_train)\n",
    "ridge.fit(X_train, y_train)\n",
    "elastic.fit(X_train, y_train)"
   ]
  },
  {
   "cell_type": "markdown",
   "id": "0f1a7204",
   "metadata": {},
   "source": [
    "##### SVR"
   ]
  },
  {
   "cell_type": "code",
   "execution_count": null,
   "id": "6adf7a94",
   "metadata": {},
   "outputs": [],
   "source": [
    "svr.fit(X_train, y_train)"
   ]
  },
  {
   "cell_type": "markdown",
   "id": "a0daee48",
   "metadata": {},
   "source": [
    "##### Random Forest"
   ]
  },
  {
   "cell_type": "code",
   "execution_count": null,
   "id": "2db72b98",
   "metadata": {},
   "outputs": [],
   "source": [
    "rfr.fit(X_train, y_train)\n",
    "etr.fit(X_train, y_train)"
   ]
  },
  {
   "cell_type": "markdown",
   "id": "e8cccc83",
   "metadata": {},
   "source": [
    "##### Boosting"
   ]
  },
  {
   "cell_type": "code",
   "execution_count": null,
   "id": "4418e911",
   "metadata": {},
   "outputs": [],
   "source": [
    "gbr.fit(X_train, y_train)\n",
    "xgbr.fit(X_train, y_train)\n",
    "ctr.fit(X_train, y_train, verbose=0)\n",
    "lgbmr.fit(X_train, y_train)"
   ]
  },
  {
   "cell_type": "markdown",
   "id": "dfd11242",
   "metadata": {},
   "source": [
    "##### A cuchillo"
   ]
  },
  {
   "cell_type": "code",
   "execution_count": null,
   "id": "79756a01",
   "metadata": {},
   "outputs": [],
   "source": [
    "modelos=[linreg, lasso, xgbr, lgbmr]\n",
    "\n",
    "for m in modelos:\n",
    "    m.fit(X_train, y_train)"
   ]
  },
  {
   "cell_type": "markdown",
   "id": "588e2589",
   "metadata": {},
   "source": [
    "### 10. Predicción"
   ]
  },
  {
   "cell_type": "markdown",
   "id": "16943f19",
   "metadata": {},
   "source": [
    "##### Regresión Lineal"
   ]
  },
  {
   "cell_type": "code",
   "execution_count": null,
   "id": "b6a4136b",
   "metadata": {},
   "outputs": [],
   "source": [
    "linreg.predict(X_test)[:10]\n",
    "lasso.predict(X_test)[:10]\n",
    "ridge.predict(X_test)[:10]\n",
    "elastic.predict(X_test)[:10]"
   ]
  },
  {
   "cell_type": "markdown",
   "id": "b8e26007",
   "metadata": {},
   "source": [
    "##### SVR"
   ]
  },
  {
   "cell_type": "code",
   "execution_count": null,
   "id": "600e0041",
   "metadata": {},
   "outputs": [],
   "source": [
    "svr.predict(X_test)[:10]"
   ]
  },
  {
   "cell_type": "markdown",
   "id": "b32ed913",
   "metadata": {},
   "source": [
    "##### Random Forest"
   ]
  },
  {
   "cell_type": "code",
   "execution_count": null,
   "id": "cb52371c",
   "metadata": {},
   "outputs": [],
   "source": [
    "rfr.predict(X_test)[:10]\n",
    "etr.predict(X_test)[:10]"
   ]
  },
  {
   "cell_type": "markdown",
   "id": "bee796b1",
   "metadata": {},
   "source": [
    "##### Boosting"
   ]
  },
  {
   "cell_type": "code",
   "execution_count": null,
   "id": "bd9e5be8",
   "metadata": {},
   "outputs": [],
   "source": [
    "gbr.predict(X_test)[:10]\n",
    "xgbr.predict(X_test)[:10]\n",
    "ctr.predict(X_test)[:10]\n",
    "lgbmr.predict(X_test)[:10]"
   ]
  },
  {
   "cell_type": "markdown",
   "id": "ab0b2825",
   "metadata": {},
   "source": [
    "### 11. Evaluación"
   ]
  },
  {
   "cell_type": "code",
   "execution_count": null,
   "id": "38282718",
   "metadata": {},
   "outputs": [],
   "source": [
    "from sklearn.metrics import mean_squared_error as mse  # error cuadratico medio"
   ]
  },
  {
   "cell_type": "markdown",
   "id": "aeb786b3",
   "metadata": {},
   "source": [
    "##### Regresión Lineal"
   ]
  },
  {
   "cell_type": "code",
   "execution_count": null,
   "id": "7d9349df",
   "metadata": {},
   "outputs": [],
   "source": [
    "y_pred=linreg.predict(X_test)\n",
    "\n",
    "mse(y_test, y_pred, squared=False)  # RMSE"
   ]
  },
  {
   "cell_type": "markdown",
   "id": "1bb96800",
   "metadata": {},
   "source": [
    "##### SVR"
   ]
  },
  {
   "cell_type": "code",
   "execution_count": null,
   "id": "bb397773",
   "metadata": {},
   "outputs": [],
   "source": [
    "y_pred=svr.predict(X_test)\n",
    "\n",
    "mse(y_test, y_pred, squared=False)  # RMSE"
   ]
  },
  {
   "cell_type": "markdown",
   "id": "87a2eb65",
   "metadata": {},
   "source": [
    "##### Random Forest"
   ]
  },
  {
   "cell_type": "code",
   "execution_count": null,
   "id": "1e61c38d",
   "metadata": {},
   "outputs": [],
   "source": [
    "y_pred=rfr.predict(X_test)\n",
    "\n",
    "mse(y_test, y_pred, squared=False)  # RMSE"
   ]
  },
  {
   "cell_type": "markdown",
   "id": "a088839b",
   "metadata": {},
   "source": [
    "##### Boosting"
   ]
  },
  {
   "cell_type": "code",
   "execution_count": null,
   "id": "c0ca869e",
   "metadata": {},
   "outputs": [],
   "source": [
    "y_pred=xgbr.predict(X_test)\n",
    "\n",
    "mse(y_test, y_pred, squared=False)  # RMSE\n",
    "\n",
    "\n",
    "y_pred=ctr.predict(X_test)\n",
    "\n",
    "mse(y_test, y_pred, squared=False)  # RMSE"
   ]
  },
  {
   "cell_type": "markdown",
   "id": "6b7aa21b",
   "metadata": {},
   "source": [
    "### 12. H2O"
   ]
  },
  {
   "cell_type": "code",
   "execution_count": null,
   "id": "88b0f5fb",
   "metadata": {},
   "outputs": [],
   "source": [
    "#!pip install h2o\n",
    "\n",
    "import h2o\n",
    "from h2o.automl import H2OAutoML"
   ]
  },
  {
   "cell_type": "markdown",
   "id": "4846cef1",
   "metadata": {},
   "source": [
    "##### Inicializamos modelo H2O"
   ]
  },
  {
   "cell_type": "code",
   "execution_count": null,
   "id": "96b77df2",
   "metadata": {},
   "outputs": [],
   "source": [
    "h2o.init()"
   ]
  },
  {
   "cell_type": "markdown",
   "id": "a4fc9421",
   "metadata": {},
   "source": [
    "##### Parsear datos para H2O"
   ]
  },
  {
   "cell_type": "code",
   "execution_count": null,
   "id": "6f72880a",
   "metadata": {},
   "outputs": [],
   "source": [
    "h2train=h2o.H2OFrame(train)\n",
    "h2test=h2o.H2OFrame(test)\n",
    "\n",
    "h2train.columns\n",
    "\n",
    "\n",
    "X=[c for c in h2train.columns if c!='price']\n",
    "\n",
    "y='price'"
   ]
  },
  {
   "cell_type": "markdown",
   "id": "57997cfc",
   "metadata": {},
   "source": [
    "##### Iniciar auto-machine-learning"
   ]
  },
  {
   "cell_type": "code",
   "execution_count": null,
   "id": "17475242",
   "metadata": {},
   "outputs": [],
   "source": [
    "automl=H2OAutoML(max_models=50,\n",
    "                 seed=42,   # random_state\n",
    "                 max_runtime_secs=300,\n",
    "                 sort_metric='RMSE')"
   ]
  },
  {
   "cell_type": "markdown",
   "id": "0b56c590",
   "metadata": {},
   "source": [
    "##### Entrenamiento"
   ]
  },
  {
   "cell_type": "code",
   "execution_count": null,
   "id": "7cd0ed22",
   "metadata": {},
   "outputs": [],
   "source": [
    "automl.train(x=X,\n",
    "             y=y,\n",
    "             training_frame=h2train)"
   ]
  },
  {
   "cell_type": "code",
   "execution_count": null,
   "id": "c907b02c",
   "metadata": {},
   "outputs": [],
   "source": [
    "print('[INFO] Leader board:')\n",
    "\n",
    "leader_board=automl.leaderboard"
   ]
  },
  {
   "cell_type": "markdown",
   "id": "278567ff",
   "metadata": {},
   "source": [
    "##### Predicción del líder"
   ]
  },
  {
   "cell_type": "code",
   "execution_count": null,
   "id": "5a32d3c7",
   "metadata": {},
   "outputs": [],
   "source": [
    "y_pred=automl.leader.predict(h2test)"
   ]
  }
 ],
 "metadata": {
  "kernelspec": {
   "display_name": "Python 3 (ipykernel)",
   "language": "python",
   "name": "python3"
  },
  "language_info": {
   "codemirror_mode": {
    "name": "ipython",
    "version": 3
   },
   "file_extension": ".py",
   "mimetype": "text/x-python",
   "name": "python",
   "nbconvert_exporter": "python",
   "pygments_lexer": "ipython3",
   "version": "3.9.7"
  }
 },
 "nbformat": 4,
 "nbformat_minor": 5
}
