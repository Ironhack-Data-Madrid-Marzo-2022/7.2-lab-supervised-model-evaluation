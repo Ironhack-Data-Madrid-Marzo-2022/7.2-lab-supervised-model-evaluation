{
 "cells": [
  {
   "cell_type": "markdown",
   "metadata": {
    "pycharm": {
     "name": "#%% md\n"
    }
   },
   "source": [
    "# Supervised Learning Model Evaluation Lab\n",
    "\n",
    "Complete the exercises below to solidify your knowledge and understanding of supervised learning model evaluation."
   ]
  },
  {
   "cell_type": "code",
   "execution_count": 1,
   "metadata": {
    "pycharm": {
     "name": "#%%\n"
    }
   },
   "outputs": [],
   "source": [
    "import pandas as pd"
   ]
  },
  {
   "cell_type": "markdown",
   "metadata": {
    "pycharm": {
     "name": "#%% md\n"
    }
   },
   "source": [
    "## Regression Model Evaluation"
   ]
  },
  {
   "cell_type": "code",
   "execution_count": 2,
   "metadata": {
    "pycharm": {
     "name": "#%%\n"
    }
   },
   "outputs": [],
   "source": [
    "from sklearn.datasets import load_boston\n",
    "\n",
    "data = load_boston()\n",
    "\n",
    "X = pd.DataFrame(data[\"data\"], columns=data[\"feature_names\"])\n",
    "y = pd.DataFrame(data[\"target\"], columns=['MEDV'])\n",
    "\n",
    "data = pd.concat([X, y], axis=1)"
   ]
  },
  {
   "cell_type": "markdown",
   "metadata": {
    "pycharm": {
     "name": "#%% md\n"
    }
   },
   "source": [
    "## 1. Split this data set into training (80%) and testing (20%) sets.\n",
    "\n",
    "The `MEDV` field represents the median value of owner-occupied homes (in $1000's) and is the target variable that we will want to predict."
   ]
  },
  {
   "cell_type": "code",
   "execution_count": 4,
   "metadata": {
    "pycharm": {
     "name": "#%%\n"
    }
   },
   "outputs": [],
   "source": [
    "from sklearn.model_selection import train_test_split"
   ]
  },
  {
   "cell_type": "code",
   "execution_count": 5,
   "outputs": [],
   "source": [
    "X_train, X_test, y_train, y_test = train_test_split(X, y, test_size=0.2, random_state=42)"
   ],
   "metadata": {
    "collapsed": false,
    "pycharm": {
     "name": "#%%\n"
    }
   }
  },
  {
   "cell_type": "code",
   "execution_count": 10,
   "outputs": [
    {
     "data": {
      "text/plain": "((404, 13), (102, 13), (404, 1), (102, 1))"
     },
     "execution_count": 10,
     "metadata": {},
     "output_type": "execute_result"
    }
   ],
   "source": [
    "X_train.shape, X_test.shape, y_train.shape, y_test.shape"
   ],
   "metadata": {
    "collapsed": false,
    "pycharm": {
     "name": "#%%\n"
    }
   }
  },
  {
   "cell_type": "code",
   "execution_count": 11,
   "outputs": [
    {
     "data": {
      "text/plain": "         CRIM    ZN  INDUS  CHAS     NOX     RM   AGE     DIS   RAD    TAX  \\\n477  15.02340   0.0  18.10   0.0  0.6140  5.304  97.3  2.1007  24.0  666.0   \n15    0.62739   0.0   8.14   0.0  0.5380  5.834  56.5  4.4986   4.0  307.0   \n332   0.03466  35.0   6.06   0.0  0.4379  6.031  23.3  6.6407   1.0  304.0   \n423   7.05042   0.0  18.10   0.0  0.6140  6.103  85.1  2.0218  24.0  666.0   \n19    0.72580   0.0   8.14   0.0  0.5380  5.727  69.5  3.7965   4.0  307.0   \n\n     PTRATIO       B  LSTAT  \n477     20.2  349.48  24.91  \n15      21.0  395.62   8.47  \n332     16.9  362.25   7.83  \n423     20.2    2.52  23.29  \n19      21.0  390.95  11.28  ",
      "text/html": "<div>\n<style scoped>\n    .dataframe tbody tr th:only-of-type {\n        vertical-align: middle;\n    }\n\n    .dataframe tbody tr th {\n        vertical-align: top;\n    }\n\n    .dataframe thead th {\n        text-align: right;\n    }\n</style>\n<table border=\"1\" class=\"dataframe\">\n  <thead>\n    <tr style=\"text-align: right;\">\n      <th></th>\n      <th>CRIM</th>\n      <th>ZN</th>\n      <th>INDUS</th>\n      <th>CHAS</th>\n      <th>NOX</th>\n      <th>RM</th>\n      <th>AGE</th>\n      <th>DIS</th>\n      <th>RAD</th>\n      <th>TAX</th>\n      <th>PTRATIO</th>\n      <th>B</th>\n      <th>LSTAT</th>\n    </tr>\n  </thead>\n  <tbody>\n    <tr>\n      <th>477</th>\n      <td>15.02340</td>\n      <td>0.0</td>\n      <td>18.10</td>\n      <td>0.0</td>\n      <td>0.6140</td>\n      <td>5.304</td>\n      <td>97.3</td>\n      <td>2.1007</td>\n      <td>24.0</td>\n      <td>666.0</td>\n      <td>20.2</td>\n      <td>349.48</td>\n      <td>24.91</td>\n    </tr>\n    <tr>\n      <th>15</th>\n      <td>0.62739</td>\n      <td>0.0</td>\n      <td>8.14</td>\n      <td>0.0</td>\n      <td>0.5380</td>\n      <td>5.834</td>\n      <td>56.5</td>\n      <td>4.4986</td>\n      <td>4.0</td>\n      <td>307.0</td>\n      <td>21.0</td>\n      <td>395.62</td>\n      <td>8.47</td>\n    </tr>\n    <tr>\n      <th>332</th>\n      <td>0.03466</td>\n      <td>35.0</td>\n      <td>6.06</td>\n      <td>0.0</td>\n      <td>0.4379</td>\n      <td>6.031</td>\n      <td>23.3</td>\n      <td>6.6407</td>\n      <td>1.0</td>\n      <td>304.0</td>\n      <td>16.9</td>\n      <td>362.25</td>\n      <td>7.83</td>\n    </tr>\n    <tr>\n      <th>423</th>\n      <td>7.05042</td>\n      <td>0.0</td>\n      <td>18.10</td>\n      <td>0.0</td>\n      <td>0.6140</td>\n      <td>6.103</td>\n      <td>85.1</td>\n      <td>2.0218</td>\n      <td>24.0</td>\n      <td>666.0</td>\n      <td>20.2</td>\n      <td>2.52</td>\n      <td>23.29</td>\n    </tr>\n    <tr>\n      <th>19</th>\n      <td>0.72580</td>\n      <td>0.0</td>\n      <td>8.14</td>\n      <td>0.0</td>\n      <td>0.5380</td>\n      <td>5.727</td>\n      <td>69.5</td>\n      <td>3.7965</td>\n      <td>4.0</td>\n      <td>307.0</td>\n      <td>21.0</td>\n      <td>390.95</td>\n      <td>11.28</td>\n    </tr>\n  </tbody>\n</table>\n</div>"
     },
     "execution_count": 11,
     "metadata": {},
     "output_type": "execute_result"
    }
   ],
   "source": [
    "X_train.head()"
   ],
   "metadata": {
    "collapsed": false,
    "pycharm": {
     "name": "#%%\n"
    }
   }
  },
  {
   "cell_type": "markdown",
   "metadata": {
    "pycharm": {
     "name": "#%% md\n"
    }
   },
   "source": [
    "## 2. Train a `LinearRegression` model on this data set and generate predictions on both the training and the testing set."
   ]
  },
  {
   "cell_type": "code",
   "execution_count": 12,
   "metadata": {
    "pycharm": {
     "name": "#%%\n"
    }
   },
   "outputs": [],
   "source": [
    "from sklearn.linear_model import LinearRegression"
   ]
  },
  {
   "cell_type": "code",
   "execution_count": 13,
   "outputs": [],
   "source": [
    "lr = LinearRegression()"
   ],
   "metadata": {
    "collapsed": false,
    "pycharm": {
     "name": "#%%\n"
    }
   }
  },
  {
   "cell_type": "code",
   "execution_count": 14,
   "outputs": [
    {
     "data": {
      "text/plain": "LinearRegression()"
     },
     "execution_count": 14,
     "metadata": {},
     "output_type": "execute_result"
    }
   ],
   "source": [
    "lr.fit(X_train, y_train)"
   ],
   "metadata": {
    "collapsed": false,
    "pycharm": {
     "name": "#%%\n"
    }
   }
  },
  {
   "cell_type": "code",
   "execution_count": 15,
   "outputs": [
    {
     "data": {
      "text/plain": "array([[10.96952405],\n       [19.41196567],\n       [23.06419602],\n       [12.1470648 ],\n       [18.3738116 ],\n       [25.24677946],\n       [20.77024774],\n       [23.90932632],\n       [ 7.81713319],\n       [19.60988098],\n       [21.8202963 ],\n       [27.59615864],\n       [32.67986504],\n       [15.12308446],\n       [35.3964561 ],\n       [12.99688651],\n       [20.728181  ],\n       [28.30223542],\n       [15.61724836],\n       [24.45143096],\n       [ 4.61794591],\n       [23.76681932],\n       [25.56178249],\n       [22.98928526],\n       [24.5213025 ],\n       [34.06407919],\n       [19.71166707],\n       [39.11233072],\n       [14.62515846],\n       [24.81139885],\n       [18.02332883],\n       [20.85836445],\n       [ 9.57577261],\n       [20.87246835],\n       [22.28583096],\n       [31.79327155],\n       [31.04748307],\n       [15.70611763],\n       [17.01382935],\n       [28.23332703],\n       [24.27661276],\n       [16.88670215],\n       [ 6.90720745],\n       [26.75808901],\n       [22.586493  ],\n       [17.53664716],\n       [13.77197016],\n       [41.04840929],\n       [16.44690754],\n       [18.23531669],\n       [25.37038646],\n       [23.64581399],\n       [22.05322581],\n       [20.83620499],\n       [16.93508273],\n       [22.797579  ],\n       [29.13333934],\n       [ 7.69310515],\n       [24.60571452],\n       [17.2358028 ],\n       [21.10846551],\n       [25.15150324],\n       [27.33394823],\n       [21.30494963],\n       [41.5811902 ],\n       [19.19666651],\n       [15.37955448],\n       [19.33545877],\n       [17.04687638],\n       [22.96801532],\n       [23.11094953],\n       [33.6977586 ],\n       [22.77436405],\n       [20.28968381],\n       [25.35517813],\n       [31.02479125],\n       [33.05103792],\n       [28.44712333],\n       [ 8.50926331],\n       [ 5.61220643],\n       [12.81228164],\n       [19.81854491],\n       [34.8603548 ],\n       [33.47481463],\n       [15.81288676],\n       [ 4.16863764],\n       [32.81131556],\n       [21.22307142],\n       [18.97752706],\n       [26.36174269],\n       [18.38053781],\n       [17.80316891],\n       [11.8730344 ],\n       [31.84801205],\n       [24.45344478],\n       [20.0222241 ],\n       [19.5225374 ],\n       [11.8723419 ],\n       [28.90289906],\n       [19.7133604 ],\n       [32.47093634],\n       [33.20696505],\n       [24.79405395],\n       [21.25197228],\n       [25.03045081],\n       [43.36995367],\n       [29.54151469],\n       [33.75302939],\n       [26.27516427],\n       [27.04791799],\n       [15.1908027 ],\n       [31.34177077],\n       [20.85218327],\n       [31.05070715],\n       [28.74449991],\n       [21.16535503],\n       [23.06717742],\n       [12.48881717],\n       [36.48751917],\n       [37.24291141],\n       [33.23617345],\n       [ 5.30863493],\n       [20.82773333],\n       [22.16769067],\n       [35.62579793],\n       [17.10890633],\n       [22.76667   ],\n       [19.50567599],\n       [26.36980524],\n       [16.03780391],\n       [20.63186041],\n       [27.04508116],\n       [31.39596353],\n       [31.12597743],\n       [22.78355908],\n       [39.11521781],\n       [28.28378993],\n       [30.53090392],\n       [28.89518723],\n       [21.08389783],\n       [29.04801464],\n       [16.151087  ],\n       [22.08243372],\n       [24.61505524],\n       [18.95878457],\n       [ 2.06366066],\n       [20.51120467],\n       [26.85927261],\n       [23.0775764 ],\n       [18.40141847],\n       [22.70378324],\n       [15.95162657],\n       [31.54559763],\n       [27.82356386],\n       [34.19210038],\n       [20.70876151],\n       [15.1538496 ],\n       [19.55740929],\n       [ 8.31853813],\n       [13.62525632],\n       [26.48611752],\n       [16.52769982],\n       [ 4.13593772],\n       [24.73356662],\n       [12.21856959],\n       [28.24704463],\n       [33.60549853],\n       [36.84177072],\n       [24.28136146],\n       [20.7199677 ],\n       [30.79885576],\n       [36.93823489],\n       [19.92152434],\n       [19.59433404],\n       [28.76197718],\n       [13.28347615],\n       [13.41116334],\n       [10.89910148],\n       [19.07573086],\n       [22.65911351],\n       [30.27080271],\n       [29.77482371],\n       [17.89252221],\n       [29.83838757],\n       [14.41987694],\n       [13.24056207],\n       [33.87859379],\n       [19.6406762 ],\n       [14.54072369],\n       [23.66498192],\n       [22.41851151],\n       [19.63248447],\n       [24.660086  ],\n       [35.00833944],\n       [ 4.12171868],\n       [20.79593953],\n       [33.240402  ],\n       [18.04778742],\n       [22.6208596 ],\n       [22.39592759],\n       [21.4012853 ],\n       [11.74782838],\n       [38.18786922],\n       [25.76751814],\n       [24.80115706],\n       [16.36524419],\n       [31.98045427],\n       [36.35420843],\n       [39.11016375],\n       [20.33864814],\n       [22.16464728],\n       [16.34276966],\n       [39.35137104],\n       [ 6.74954317],\n       [21.35789894],\n       [15.53370378],\n       [26.91527204],\n       [ 8.80382559],\n       [20.93301971],\n       [-0.20588155],\n       [17.21501492],\n       [16.17150935],\n       [ 8.48374754],\n       [23.08202496],\n       [17.23085262],\n       [29.42673011],\n       [44.36436789],\n       [28.09470335],\n       [23.75911874],\n       [36.75959172],\n       [ 8.71594791],\n       [25.90885934],\n       [20.83832124],\n       [23.68119542],\n       [19.85753143],\n       [22.2992237 ],\n       [14.72942336],\n       [18.4266911 ],\n       [22.45346464],\n       [23.75648384],\n       [28.82492146],\n       [23.58310886],\n       [27.30142666],\n       [18.06532614],\n       [13.16799771],\n       [31.66795775],\n       [28.77291955],\n       [12.60179253],\n       [17.38668341],\n       [24.05174693],\n       [40.7163898 ],\n       [23.0214736 ],\n       [12.83596226],\n       [28.55024128],\n       [36.850343  ],\n       [23.26391794],\n       [25.14113573],\n       [38.36624745],\n       [18.21318365],\n       [25.69614391],\n       [15.22833068],\n       [24.14345412],\n       [36.27095489],\n       [31.03140871],\n       [24.82017075],\n       [17.7834844 ],\n       [17.99307546],\n       [ 8.61827851],\n       [41.51965821],\n       [19.63259696],\n       [30.16241039],\n       [19.69581658],\n       [14.59963591],\n       [20.29467675],\n       [24.22053288],\n       [34.79282666],\n       [26.51552807],\n       [41.665796  ],\n       [12.32829593],\n       [14.32092274],\n       [23.69090327],\n       [18.01762114],\n       [19.72399411],\n       [29.13009315],\n       [11.10216617],\n       [24.11213143],\n       [18.54668994],\n       [23.69765843],\n       [30.11853879],\n       [19.34756033],\n       [12.52355093],\n       [33.74737806],\n       [16.90295464],\n       [17.83165159],\n       [19.34064029],\n       [26.74379491],\n       [35.24575625],\n       [12.92253178],\n       [26.69073573],\n       [19.19640769],\n       [30.29549933],\n       [17.83878909],\n       [22.92058129],\n       [29.13254708],\n       [20.02093559],\n       [25.18893157],\n       [20.95650827],\n       [20.57624549],\n       [32.93168351],\n       [20.43565472],\n       [25.41798459],\n       [28.14952635],\n       [37.59066882],\n       [25.0548289 ],\n       [28.61534646],\n       [17.97695227],\n       [30.78085325],\n       [23.57491321],\n       [34.56676284],\n       [18.52592551],\n       [23.86972656],\n       [13.82862001],\n       [25.18152388],\n       [17.67219765],\n       [12.63704156],\n       [17.03927502],\n       [14.2510159 ],\n       [28.56862619],\n       [22.99037971],\n       [13.42262376],\n       [17.40965124],\n       [34.44268371],\n       [12.93938984],\n       [14.62427657],\n       [27.50209814],\n       [21.28772373],\n       [21.8475453 ],\n       [27.75030943],\n       [16.84106111],\n       [35.70395065],\n       [23.19717187],\n       [19.70894368],\n       [20.39856551],\n       [31.03155183],\n       [ 5.16165827],\n       [36.26386827],\n       [38.27409562],\n       [21.44507004],\n       [21.53203698],\n       [13.25546637],\n       [35.43733953],\n       [19.75468373],\n       [21.59325014],\n       [27.28654912],\n       [14.70336355],\n       [20.10948908],\n       [20.98738625],\n       [20.42268561],\n       [26.20840113],\n       [11.28815662],\n       [34.57059129],\n       [22.65270668],\n       [22.68814063],\n       [33.20155069],\n       [26.77878535],\n       [21.55230365],\n       [ 8.80963918],\n       [28.40878163],\n       [25.10012639],\n       [25.47646583],\n       [17.70215249],\n       [25.63601841],\n       [18.61140436],\n       [32.77937269],\n       [35.77461311],\n       [18.3180684 ],\n       [30.14080347],\n       [ 7.72488159],\n       [26.25987699],\n       [10.52826879],\n       [27.30604251],\n       [44.10078731],\n       [28.92351314],\n       [14.7836951 ],\n       [20.79445301],\n       [17.96782515],\n       [19.333174  ],\n       [33.02714571],\n       [25.71055958],\n       [25.89232968],\n       [17.07165041],\n       [21.95432205],\n       [11.3511532 ],\n       [13.27742402],\n       [22.66485295],\n       [22.52252947],\n       [12.30424735],\n       [32.08396429],\n       [22.11175771],\n       [17.24071878],\n       [22.00480027],\n       [26.7237425 ],\n       [12.97674212],\n       [19.14279551]])"
     },
     "execution_count": 15,
     "metadata": {},
     "output_type": "execute_result"
    }
   ],
   "source": [
    "lr.predict(X_train)"
   ],
   "metadata": {
    "collapsed": false,
    "pycharm": {
     "name": "#%%\n"
    }
   }
  },
  {
   "cell_type": "code",
   "execution_count": 16,
   "outputs": [
    {
     "data": {
      "text/plain": "array([[28.99672362],\n       [36.02556534],\n       [14.81694405],\n       [25.03197915],\n       [18.76987992],\n       [23.25442929],\n       [17.66253818],\n       [14.34119   ],\n       [23.01320703],\n       [20.63245597],\n       [24.90850512],\n       [18.63883645],\n       [-6.08842184],\n       [21.75834668],\n       [19.23922576],\n       [26.19319733],\n       [20.64773313],\n       [ 5.79472718],\n       [40.50033966],\n       [17.61289074],\n       [27.24909479],\n       [30.06625441],\n       [11.34179277],\n       [24.16077616],\n       [17.86058499],\n       [15.83609765],\n       [22.78148106],\n       [14.57704449],\n       [22.43626052],\n       [19.19631835],\n       [22.43383455],\n       [25.21979081],\n       [25.93909562],\n       [17.70162434],\n       [16.76911711],\n       [16.95125411],\n       [31.23340153],\n       [20.13246729],\n       [23.76579011],\n       [24.6322925 ],\n       [13.94204955],\n       [32.25576301],\n       [42.67251161],\n       [17.32745046],\n       [27.27618614],\n       [16.99310991],\n       [14.07009109],\n       [25.90341861],\n       [20.29485982],\n       [29.95339638],\n       [21.28860173],\n       [34.34451856],\n       [16.04739105],\n       [26.22562412],\n       [39.53939798],\n       [22.57950697],\n       [18.84531367],\n       [32.72531661],\n       [25.0673037 ],\n       [12.88628956],\n       [22.68221908],\n       [30.48287757],\n       [31.52626806],\n       [15.90148607],\n       [20.22094826],\n       [16.71089812],\n       [20.52384893],\n       [25.96356264],\n       [30.61607978],\n       [11.59783023],\n       [20.51232627],\n       [27.48111878],\n       [11.01962332],\n       [15.68096344],\n       [23.79316251],\n       [ 6.19929359],\n       [21.6039073 ],\n       [41.41377225],\n       [18.76548695],\n       [ 8.87931901],\n       [20.83076916],\n       [13.25620627],\n       [20.73963699],\n       [ 9.36482222],\n       [23.22444271],\n       [31.9155003 ],\n       [19.10228271],\n       [25.51579303],\n       [29.04256769],\n       [20.14358566],\n       [25.5859787 ],\n       [ 5.70159447],\n       [20.09474756],\n       [14.95069156],\n       [12.50395648],\n       [20.72635294],\n       [24.73957161],\n       [-0.164237  ],\n       [13.68486682],\n       [16.18359697],\n       [22.27621999],\n       [24.47902364]])"
     },
     "execution_count": 16,
     "metadata": {},
     "output_type": "execute_result"
    }
   ],
   "source": [
    "lr.predict(X_test)"
   ],
   "metadata": {
    "collapsed": false,
    "pycharm": {
     "name": "#%%\n"
    }
   }
  },
  {
   "cell_type": "code",
   "execution_count": 17,
   "outputs": [
    {
     "data": {
      "text/plain": "0.7508856358979673"
     },
     "execution_count": 17,
     "metadata": {},
     "output_type": "execute_result"
    }
   ],
   "source": [
    "lr.score(X_train, y_train)"
   ],
   "metadata": {
    "collapsed": false,
    "pycharm": {
     "name": "#%%\n"
    }
   }
  },
  {
   "cell_type": "code",
   "execution_count": 18,
   "outputs": [
    {
     "data": {
      "text/plain": "0.6687594935356329"
     },
     "execution_count": 18,
     "metadata": {},
     "output_type": "execute_result"
    }
   ],
   "source": [
    "lr.score(X_test, y_test)"
   ],
   "metadata": {
    "collapsed": false,
    "pycharm": {
     "name": "#%%\n"
    }
   }
  },
  {
   "cell_type": "markdown",
   "metadata": {
    "pycharm": {
     "name": "#%% md\n"
    }
   },
   "source": [
    "## 3. Calculate and print R-squared for both the training and the testing set."
   ]
  },
  {
   "cell_type": "code",
   "execution_count": 19,
   "metadata": {
    "pycharm": {
     "name": "#%%\n"
    }
   },
   "outputs": [],
   "source": [
    "from sklearn.metrics import r2_score"
   ]
  },
  {
   "cell_type": "code",
   "execution_count": 20,
   "outputs": [
    {
     "data": {
      "text/plain": "0.7508856358979673"
     },
     "execution_count": 20,
     "metadata": {},
     "output_type": "execute_result"
    }
   ],
   "source": [
    "r2_score(y_train, lr.predict(X_train))"
   ],
   "metadata": {
    "collapsed": false,
    "pycharm": {
     "name": "#%%\n"
    }
   }
  },
  {
   "cell_type": "code",
   "execution_count": 21,
   "outputs": [
    {
     "data": {
      "text/plain": "0.6687594935356329"
     },
     "execution_count": 21,
     "metadata": {},
     "output_type": "execute_result"
    }
   ],
   "source": [
    "r2_score(y_test, lr.predict(X_test))"
   ],
   "metadata": {
    "collapsed": false,
    "pycharm": {
     "name": "#%%\n"
    }
   }
  },
  {
   "cell_type": "markdown",
   "metadata": {
    "pycharm": {
     "name": "#%% md\n"
    }
   },
   "source": [
    "## 4. Calculate and print mean squared error for both the training and the testing set."
   ]
  },
  {
   "cell_type": "code",
   "execution_count": 25,
   "metadata": {
    "pycharm": {
     "name": "#%%\n"
    }
   },
   "outputs": [],
   "source": [
    "from sklearn.metrics import mean_squared_error"
   ]
  },
  {
   "cell_type": "code",
   "execution_count": 26,
   "outputs": [
    {
     "data": {
      "text/plain": "21.641412753226312"
     },
     "execution_count": 26,
     "metadata": {},
     "output_type": "execute_result"
    }
   ],
   "source": [
    "mean_squared_error(y_train, lr.predict(X_train))"
   ],
   "metadata": {
    "collapsed": false,
    "pycharm": {
     "name": "#%%\n"
    }
   }
  },
  {
   "cell_type": "code",
   "execution_count": 27,
   "outputs": [
    {
     "data": {
      "text/plain": "24.291119474973456"
     },
     "execution_count": 27,
     "metadata": {},
     "output_type": "execute_result"
    }
   ],
   "source": [
    "mean_squared_error(y_test, lr.predict(X_test))"
   ],
   "metadata": {
    "collapsed": false,
    "pycharm": {
     "name": "#%%\n"
    }
   }
  },
  {
   "cell_type": "markdown",
   "metadata": {
    "pycharm": {
     "name": "#%% md\n"
    }
   },
   "source": [
    "## 5. Calculate and print mean absolute error for both the training and the testing set."
   ]
  },
  {
   "cell_type": "code",
   "execution_count": 28,
   "metadata": {
    "pycharm": {
     "name": "#%%\n"
    }
   },
   "outputs": [],
   "source": [
    "from sklearn.metrics import mean_absolute_error"
   ]
  },
  {
   "cell_type": "code",
   "execution_count": 29,
   "outputs": [
    {
     "data": {
      "text/plain": "3.3147716267832226"
     },
     "execution_count": 29,
     "metadata": {},
     "output_type": "execute_result"
    }
   ],
   "source": [
    "mean_absolute_error(y_train, lr.predict(X_train))"
   ],
   "metadata": {
    "collapsed": false,
    "pycharm": {
     "name": "#%%\n"
    }
   }
  },
  {
   "cell_type": "code",
   "execution_count": 30,
   "outputs": [
    {
     "data": {
      "text/plain": "3.1890919658878287"
     },
     "execution_count": 30,
     "metadata": {},
     "output_type": "execute_result"
    }
   ],
   "source": [
    "mean_absolute_error(y_test, lr.predict(X_test))"
   ],
   "metadata": {
    "collapsed": false,
    "pycharm": {
     "name": "#%%\n"
    }
   }
  },
  {
   "cell_type": "markdown",
   "metadata": {
    "pycharm": {
     "name": "#%% md\n"
    }
   },
   "source": [
    "## Classification Model Evaluation"
   ]
  },
  {
   "cell_type": "code",
   "execution_count": 31,
   "metadata": {
    "pycharm": {
     "name": "#%%\n"
    }
   },
   "outputs": [],
   "source": [
    "from sklearn.datasets import load_iris\n",
    "\n",
    "data = load_iris()\n",
    "\n",
    "X = pd.DataFrame(data[\"data\"], columns=data[\"feature_names\"])\n",
    "y = pd.DataFrame(data[\"target\"], columns=[\"class\"])\n",
    "\n",
    "data = pd.concat([X, y], axis=1)"
   ]
  },
  {
   "cell_type": "markdown",
   "metadata": {
    "pycharm": {
     "name": "#%% md\n"
    }
   },
   "source": [
    "## 6. Split this data set into training (80%) and testing (20%) sets.\n",
    "\n",
    "The `class` field represents the type of flower and is the target variable that we will want to predict."
   ]
  },
  {
   "cell_type": "code",
   "execution_count": 32,
   "metadata": {
    "pycharm": {
     "name": "#%%\n"
    }
   },
   "outputs": [],
   "source": [
    "from sklearn.model_selection import train_test_split"
   ]
  },
  {
   "cell_type": "code",
   "execution_count": 33,
   "outputs": [],
   "source": [
    "X_train, X_test, y_train, y_test = train_test_split(X, y, test_size=0.2, random_state=42)"
   ],
   "metadata": {
    "collapsed": false,
    "pycharm": {
     "name": "#%%\n"
    }
   }
  },
  {
   "cell_type": "code",
   "execution_count": 34,
   "outputs": [
    {
     "data": {
      "text/plain": "((120, 4), (30, 4), (120, 1), (30, 1))"
     },
     "execution_count": 34,
     "metadata": {},
     "output_type": "execute_result"
    }
   ],
   "source": [
    "X_train.shape, X_test.shape, y_train.shape, y_test.shape"
   ],
   "metadata": {
    "collapsed": false,
    "pycharm": {
     "name": "#%%\n"
    }
   }
  },
  {
   "cell_type": "markdown",
   "metadata": {
    "pycharm": {
     "name": "#%% md\n"
    }
   },
   "source": [
    "## 7. Train a `LogisticRegression` model on this data set and generate predictions on both the training and the testing set."
   ]
  },
  {
   "cell_type": "code",
   "execution_count": 35,
   "metadata": {
    "pycharm": {
     "name": "#%%\n"
    }
   },
   "outputs": [],
   "source": [
    "from sklearn.linear_model import LogisticRegression"
   ]
  },
  {
   "cell_type": "code",
   "execution_count": 36,
   "outputs": [],
   "source": [
    "lr = LogisticRegression()"
   ],
   "metadata": {
    "collapsed": false,
    "pycharm": {
     "name": "#%%\n"
    }
   }
  },
  {
   "cell_type": "code",
   "execution_count": 37,
   "outputs": [
    {
     "name": "stderr",
     "output_type": "stream",
     "text": [
      "C:\\Users\\Platermatter\\anaconda3\\lib\\site-packages\\sklearn\\utils\\validation.py:63: DataConversionWarning: A column-vector y was passed when a 1d array was expected. Please change the shape of y to (n_samples, ), for example using ravel().\n",
      "  return f(*args, **kwargs)\n",
      "C:\\Users\\Platermatter\\anaconda3\\lib\\site-packages\\sklearn\\linear_model\\_logistic.py:763: ConvergenceWarning: lbfgs failed to converge (status=1):\n",
      "STOP: TOTAL NO. of ITERATIONS REACHED LIMIT.\n",
      "\n",
      "Increase the number of iterations (max_iter) or scale the data as shown in:\n",
      "    https://scikit-learn.org/stable/modules/preprocessing.html\n",
      "Please also refer to the documentation for alternative solver options:\n",
      "    https://scikit-learn.org/stable/modules/linear_model.html#logistic-regression\n",
      "  n_iter_i = _check_optimize_result(\n"
     ]
    },
    {
     "data": {
      "text/plain": "LogisticRegression()"
     },
     "execution_count": 37,
     "metadata": {},
     "output_type": "execute_result"
    }
   ],
   "source": [
    "lr.fit(X_train, y_train)"
   ],
   "metadata": {
    "collapsed": false,
    "pycharm": {
     "name": "#%%\n"
    }
   }
  },
  {
   "cell_type": "code",
   "execution_count": 38,
   "outputs": [
    {
     "data": {
      "text/plain": "array([0, 0, 1, 0, 0, 2, 1, 0, 0, 0, 2, 1, 1, 0, 0, 1, 2, 2, 1, 2, 1, 2,\n       1, 0, 2, 1, 0, 0, 0, 1, 2, 0, 0, 0, 1, 0, 1, 2, 0, 1, 2, 0, 2, 2,\n       1, 1, 2, 1, 0, 1, 2, 0, 0, 1, 2, 0, 2, 0, 0, 2, 1, 2, 2, 2, 2, 1,\n       0, 0, 2, 2, 0, 0, 0, 1, 2, 0, 2, 2, 0, 1, 1, 2, 1, 2, 0, 2, 1, 2,\n       1, 1, 1, 0, 1, 1, 0, 1, 2, 2, 0, 1, 2, 2, 0, 2, 0, 1, 2, 2, 1, 2,\n       1, 1, 2, 2, 0, 1, 2, 0, 1, 2])"
     },
     "execution_count": 38,
     "metadata": {},
     "output_type": "execute_result"
    }
   ],
   "source": [
    "lr.predict(X_train)"
   ],
   "metadata": {
    "collapsed": false,
    "pycharm": {
     "name": "#%%\n"
    }
   }
  },
  {
   "cell_type": "code",
   "execution_count": 39,
   "outputs": [
    {
     "data": {
      "text/plain": "array([1, 0, 2, 1, 1, 0, 1, 2, 1, 1, 2, 0, 0, 0, 0, 1, 2, 1, 1, 2, 0, 2,\n       0, 2, 2, 2, 2, 2, 0, 0])"
     },
     "execution_count": 39,
     "metadata": {},
     "output_type": "execute_result"
    }
   ],
   "source": [
    "lr.predict(X_test)"
   ],
   "metadata": {
    "collapsed": false,
    "pycharm": {
     "name": "#%%\n"
    }
   }
  },
  {
   "cell_type": "code",
   "execution_count": 40,
   "outputs": [
    {
     "data": {
      "text/plain": "0.975"
     },
     "execution_count": 40,
     "metadata": {},
     "output_type": "execute_result"
    }
   ],
   "source": [
    "lr.score(X_train, y_train)"
   ],
   "metadata": {
    "collapsed": false,
    "pycharm": {
     "name": "#%%\n"
    }
   }
  },
  {
   "cell_type": "code",
   "execution_count": 41,
   "outputs": [
    {
     "data": {
      "text/plain": "1.0"
     },
     "execution_count": 41,
     "metadata": {},
     "output_type": "execute_result"
    }
   ],
   "source": [
    "lr.score(X_test, y_test)"
   ],
   "metadata": {
    "collapsed": false,
    "pycharm": {
     "name": "#%%\n"
    }
   }
  },
  {
   "cell_type": "markdown",
   "metadata": {
    "pycharm": {
     "name": "#%% md\n"
    }
   },
   "source": [
    "## 8. Calculate and print the accuracy score for both the training and the testing set."
   ]
  },
  {
   "cell_type": "code",
   "execution_count": 42,
   "metadata": {
    "pycharm": {
     "name": "#%%\n"
    }
   },
   "outputs": [],
   "source": [
    "from sklearn.metrics import accuracy_score"
   ]
  },
  {
   "cell_type": "code",
   "execution_count": 43,
   "outputs": [
    {
     "data": {
      "text/plain": "0.975"
     },
     "execution_count": 43,
     "metadata": {},
     "output_type": "execute_result"
    }
   ],
   "source": [
    "accuracy_score(y_train, lr.predict(X_train))"
   ],
   "metadata": {
    "collapsed": false,
    "pycharm": {
     "name": "#%%\n"
    }
   }
  },
  {
   "cell_type": "code",
   "execution_count": 44,
   "outputs": [
    {
     "data": {
      "text/plain": "1.0"
     },
     "execution_count": 44,
     "metadata": {},
     "output_type": "execute_result"
    }
   ],
   "source": [
    "accuracy_score(y_test, lr.predict(X_test))"
   ],
   "metadata": {
    "collapsed": false,
    "pycharm": {
     "name": "#%%\n"
    }
   }
  },
  {
   "cell_type": "markdown",
   "metadata": {
    "pycharm": {
     "name": "#%% md\n"
    }
   },
   "source": [
    "## 9. Calculate and print the balanced accuracy score for both the training and the testing set."
   ]
  },
  {
   "cell_type": "code",
   "execution_count": 45,
   "metadata": {
    "pycharm": {
     "name": "#%%\n"
    }
   },
   "outputs": [],
   "source": [
    "from sklearn.metrics import balanced_accuracy_score"
   ]
  },
  {
   "cell_type": "code",
   "execution_count": 46,
   "outputs": [
    {
     "data": {
      "text/plain": "0.975609756097561"
     },
     "execution_count": 46,
     "metadata": {},
     "output_type": "execute_result"
    }
   ],
   "source": [
    "balanced_accuracy_score(y_train, lr.predict(X_train))"
   ],
   "metadata": {
    "collapsed": false,
    "pycharm": {
     "name": "#%%\n"
    }
   }
  },
  {
   "cell_type": "code",
   "execution_count": 47,
   "outputs": [
    {
     "data": {
      "text/plain": "1.0"
     },
     "execution_count": 47,
     "metadata": {},
     "output_type": "execute_result"
    }
   ],
   "source": [
    "balanced_accuracy_score(y_test, lr.predict(X_test))"
   ],
   "metadata": {
    "collapsed": false,
    "pycharm": {
     "name": "#%%\n"
    }
   }
  },
  {
   "cell_type": "markdown",
   "metadata": {
    "pycharm": {
     "name": "#%% md\n"
    }
   },
   "source": [
    "## 10. Calculate and print the precision score for both the training and the testing set."
   ]
  },
  {
   "cell_type": "code",
   "execution_count": 48,
   "metadata": {
    "pycharm": {
     "name": "#%%\n"
    }
   },
   "outputs": [],
   "source": [
    "from sklearn.metrics import precision_score"
   ]
  },
  {
   "cell_type": "code",
   "execution_count": 50,
   "outputs": [
    {
     "data": {
      "text/plain": "0.9761904761904763"
     },
     "execution_count": 50,
     "metadata": {},
     "output_type": "execute_result"
    }
   ],
   "source": [
    "precision_score(y_train, lr.predict(X_train), average='macro')"
   ],
   "metadata": {
    "collapsed": false,
    "pycharm": {
     "name": "#%%\n"
    }
   }
  },
  {
   "cell_type": "code",
   "execution_count": 51,
   "outputs": [
    {
     "data": {
      "text/plain": "1.0"
     },
     "execution_count": 51,
     "metadata": {},
     "output_type": "execute_result"
    }
   ],
   "source": [
    "precision_score(y_test, lr.predict(X_test), average='macro')"
   ],
   "metadata": {
    "collapsed": false,
    "pycharm": {
     "name": "#%%\n"
    }
   }
  },
  {
   "cell_type": "markdown",
   "metadata": {
    "pycharm": {
     "name": "#%% md\n"
    }
   },
   "source": [
    "## 11. Calculate and print the recall score for both the training and the testing set."
   ]
  },
  {
   "cell_type": "code",
   "execution_count": 53,
   "metadata": {
    "pycharm": {
     "name": "#%%\n"
    }
   },
   "outputs": [],
   "source": [
    "from sklearn.metrics import recall_score"
   ]
  },
  {
   "cell_type": "code",
   "execution_count": 57,
   "outputs": [
    {
     "data": {
      "text/plain": "0.975609756097561"
     },
     "execution_count": 57,
     "metadata": {},
     "output_type": "execute_result"
    }
   ],
   "source": [
    "recall_score(y_train, lr.predict(X_train), average='macro')"
   ],
   "metadata": {
    "collapsed": false,
    "pycharm": {
     "name": "#%%\n"
    }
   }
  },
  {
   "cell_type": "code",
   "execution_count": 58,
   "outputs": [
    {
     "data": {
      "text/plain": "1.0"
     },
     "execution_count": 58,
     "metadata": {},
     "output_type": "execute_result"
    }
   ],
   "source": [
    "recall_score(y_test, lr.predict(X_test), average='macro')"
   ],
   "metadata": {
    "collapsed": false,
    "pycharm": {
     "name": "#%%\n"
    }
   }
  },
  {
   "cell_type": "markdown",
   "metadata": {
    "pycharm": {
     "name": "#%% md\n"
    }
   },
   "source": [
    "## 12. Calculate and print the F1 score for both the training and the testing set."
   ]
  },
  {
   "cell_type": "code",
   "execution_count": 59,
   "metadata": {
    "pycharm": {
     "name": "#%%\n"
    }
   },
   "outputs": [],
   "source": [
    "from sklearn.metrics import f1_score"
   ]
  },
  {
   "cell_type": "code",
   "execution_count": 60,
   "outputs": [
    {
     "data": {
      "text/plain": "0.9749960931395533"
     },
     "execution_count": 60,
     "metadata": {},
     "output_type": "execute_result"
    }
   ],
   "source": [
    "f1_score(y_train, lr.predict(X_train), average='macro')"
   ],
   "metadata": {
    "collapsed": false,
    "pycharm": {
     "name": "#%%\n"
    }
   }
  },
  {
   "cell_type": "code",
   "execution_count": 61,
   "outputs": [
    {
     "data": {
      "text/plain": "1.0"
     },
     "execution_count": 61,
     "metadata": {},
     "output_type": "execute_result"
    }
   ],
   "source": [
    "f1_score(y_test, lr.predict(X_test), average='macro')"
   ],
   "metadata": {
    "collapsed": false,
    "pycharm": {
     "name": "#%%\n"
    }
   }
  },
  {
   "cell_type": "markdown",
   "metadata": {
    "pycharm": {
     "name": "#%% md\n"
    }
   },
   "source": [
    "## 13. Generate confusion matrices for both the training and the testing set."
   ]
  },
  {
   "cell_type": "code",
   "execution_count": 62,
   "metadata": {
    "pycharm": {
     "name": "#%%\n"
    }
   },
   "outputs": [],
   "source": [
    "from sklearn.metrics import confusion_matrix"
   ]
  },
  {
   "cell_type": "code",
   "execution_count": 63,
   "metadata": {
    "pycharm": {
     "name": "#%%\n"
    }
   },
   "outputs": [
    {
     "data": {
      "text/plain": "array([[40,  0,  0],\n       [ 0, 38,  3],\n       [ 0,  0, 39]], dtype=int64)"
     },
     "execution_count": 63,
     "metadata": {},
     "output_type": "execute_result"
    }
   ],
   "source": [
    "confusion_matrix(y_train, lr.predict(X_train))"
   ]
  },
  {
   "cell_type": "code",
   "execution_count": 64,
   "outputs": [
    {
     "data": {
      "text/plain": "array([[10,  0,  0],\n       [ 0,  9,  0],\n       [ 0,  0, 11]], dtype=int64)"
     },
     "execution_count": 64,
     "metadata": {},
     "output_type": "execute_result"
    }
   ],
   "source": [
    "confusion_matrix(y_test, lr.predict(X_test))"
   ],
   "metadata": {
    "collapsed": false,
    "pycharm": {
     "name": "#%%\n"
    }
   }
  },
  {
   "cell_type": "markdown",
   "source": [
    "## Bonus: For each of the data sets in this lab, try training with some of the other models you have learned about, recalculate the evaluation metrics, and compare to determine which models perform best on each data set."
   ],
   "metadata": {
    "collapsed": false,
    "pycharm": {
     "name": "#%% md\n"
    }
   }
  },
  {
   "cell_type": "code",
   "execution_count": 65,
   "outputs": [],
   "source": [
    "from sklearn.ensemble import RandomForestClassifier"
   ],
   "metadata": {
    "collapsed": false,
    "pycharm": {
     "name": "#%%\n"
    }
   }
  },
  {
   "cell_type": "code",
   "execution_count": 66,
   "outputs": [],
   "source": [
    "rf = RandomForestClassifier()"
   ],
   "metadata": {
    "collapsed": false,
    "pycharm": {
     "name": "#%%\n"
    }
   }
  },
  {
   "cell_type": "code",
   "execution_count": 67,
   "outputs": [
    {
     "name": "stderr",
     "output_type": "stream",
     "text": [
      "C:\\Users\\PLATER~1\\AppData\\Local\\Temp/ipykernel_19992/2725846524.py:1: DataConversionWarning: A column-vector y was passed when a 1d array was expected. Please change the shape of y to (n_samples,), for example using ravel().\n",
      "  rf.fit(X_train, y_train)\n"
     ]
    },
    {
     "data": {
      "text/plain": "RandomForestClassifier()"
     },
     "execution_count": 67,
     "metadata": {},
     "output_type": "execute_result"
    }
   ],
   "source": [
    "rf.fit(X_train, y_train)"
   ],
   "metadata": {
    "collapsed": false,
    "pycharm": {
     "name": "#%%\n"
    }
   }
  },
  {
   "cell_type": "code",
   "execution_count": 68,
   "outputs": [
    {
     "data": {
      "text/plain": "array([0, 0, 1, 0, 0, 2, 1, 0, 0, 0, 2, 1, 1, 0, 0, 1, 2, 2, 1, 2, 1, 2,\n       1, 0, 2, 1, 0, 0, 0, 1, 2, 0, 0, 0, 1, 0, 1, 2, 0, 1, 2, 0, 2, 2,\n       1, 1, 2, 1, 0, 1, 2, 0, 0, 1, 1, 0, 2, 0, 0, 1, 1, 2, 1, 2, 2, 1,\n       0, 0, 2, 2, 0, 0, 0, 1, 2, 0, 2, 2, 0, 1, 1, 2, 1, 2, 0, 2, 1, 2,\n       1, 1, 1, 0, 1, 1, 0, 1, 2, 2, 0, 1, 2, 2, 0, 2, 0, 1, 2, 2, 1, 2,\n       1, 1, 2, 2, 0, 1, 2, 0, 1, 2])"
     },
     "execution_count": 68,
     "metadata": {},
     "output_type": "execute_result"
    }
   ],
   "source": [
    "rf.predict(X_train)"
   ],
   "metadata": {
    "collapsed": false,
    "pycharm": {
     "name": "#%%\n"
    }
   }
  },
  {
   "cell_type": "code",
   "execution_count": 69,
   "outputs": [
    {
     "data": {
      "text/plain": "array([1, 0, 2, 1, 1, 0, 1, 2, 1, 1, 2, 0, 0, 0, 0, 1, 2, 1, 1, 2, 0, 2,\n       0, 2, 2, 2, 2, 2, 0, 0])"
     },
     "execution_count": 69,
     "metadata": {},
     "output_type": "execute_result"
    }
   ],
   "source": [
    "rf.predict(X_test)"
   ],
   "metadata": {
    "collapsed": false,
    "pycharm": {
     "name": "#%%\n"
    }
   }
  },
  {
   "cell_type": "code",
   "execution_count": 70,
   "outputs": [
    {
     "data": {
      "text/plain": "1.0"
     },
     "execution_count": 70,
     "metadata": {},
     "output_type": "execute_result"
    }
   ],
   "source": [
    "rf.score(X_train, y_train)"
   ],
   "metadata": {
    "collapsed": false,
    "pycharm": {
     "name": "#%%\n"
    }
   }
  },
  {
   "cell_type": "code",
   "execution_count": 71,
   "outputs": [
    {
     "data": {
      "text/plain": "1.0"
     },
     "execution_count": 71,
     "metadata": {},
     "output_type": "execute_result"
    }
   ],
   "source": [
    "rf.score(X_test, y_test)"
   ],
   "metadata": {
    "collapsed": false,
    "pycharm": {
     "name": "#%%\n"
    }
   }
  }
 ],
 "metadata": {
  "kernelspec": {
   "display_name": "Python 3",
   "language": "python",
   "name": "python3"
  },
  "language_info": {
   "codemirror_mode": {
    "name": "ipython",
    "version": 3
   },
   "file_extension": ".py",
   "mimetype": "text/x-python",
   "name": "python",
   "nbconvert_exporter": "python",
   "pygments_lexer": "ipython3",
   "version": "3.7.2"
  }
 },
 "nbformat": 4,
 "nbformat_minor": 2
}